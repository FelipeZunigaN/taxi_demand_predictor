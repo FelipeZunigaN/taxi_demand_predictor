{
 "cells": [
  {
   "cell_type": "code",
   "execution_count": 8,
   "metadata": {},
   "outputs": [],
   "source": [
    "import src.config as config"
   ]
  },
  {
   "cell_type": "code",
   "execution_count": 2,
   "metadata": {},
   "outputs": [
    {
     "name": "stdout",
     "output_type": "stream",
     "text": [
      "fetch_data_from= Timestamp('2024-08-11 03:00:00')\n",
      "fetch_data_to= Timestamp('2024-09-08 03:00:00')\n"
     ]
    }
   ],
   "source": [
    "from datetime import datetime, timedelta\n",
    "\n",
    "import pandas as pd\n",
    "\n",
    "current_day = pd.to_datetime(datetime.utcnow()).floor('H')\n",
    "\n",
    "#We fetch raw data for last 28 days, to add redudancy to our data pipeline\n",
    "fetch_data_to = current_day\n",
    "fetch_data_from = current_day - timedelta(days=28)\n",
    "print(f'{fetch_data_from= }')\n",
    "print(f'{fetch_data_to= }')"
   ]
  },
  {
   "cell_type": "code",
   "execution_count": 3,
   "metadata": {},
   "outputs": [],
   "source": [
    "from src.data import load_raw_data\n",
    "\n",
    "def fetch_batch_raw_data(from_date: datetime, to_date: datetime) -> pd.DataFrame:\n",
    "    \"\"\"\n",
    "    Simulate production data by sampling historical data from 52 weeks ago (i.e. 1 year)\n",
    "    \"\"\"\n",
    "    from_date_ = from_date - timedelta(days=7*52)\n",
    "    to_date_ = to_date - timedelta(days=7*52)\n",
    "    print(f'{from_date=}, {to_date_=}')\n",
    "\n",
    "    # download 2 files from website\n",
    "    rides = load_raw_data(year=from_date_.year, months=from_date_.month)\n",
    "    rides = rides[rides.pickup_datetime >= from_date_]\n",
    "    rides_2 = load_raw_data(year=to_date_.year, months=to_date_.month)\n",
    "    rides_2 = rides_2[rides_2.pickup_datetime < to_date_]\n",
    "\n",
    "    rides = pd.concat([rides, rides_2])\n",
    "\n",
    "    # shift the data to pretend this is recent data\n",
    "    rides['pickup_datetime'] += timedelta(days=7*52)\n",
    "\n",
    "    rides.sort_values(by=['pickup_location_id', 'pickup_datetime'], inplace=True)\n",
    "\n",
    "    return rides"
   ]
  },
  {
   "cell_type": "code",
   "execution_count": 4,
   "metadata": {},
   "outputs": [
    {
     "name": "stdout",
     "output_type": "stream",
     "text": [
      "from_date=Timestamp('2024-08-11 03:00:00'), to_date_=Timestamp('2023-09-10 03:00:00')\n",
      "local file:  C:\\Users\\ingfz\\ML Projects\\taxi_demand_predictor\\data\\raw\\rides_2023-08.parquet\n",
      "File 2023-08 was already in local storage\n",
      "local file:  C:\\Users\\ingfz\\ML Projects\\taxi_demand_predictor\\data\\raw\\rides_2023-09.parquet\n",
      "File 2023-09 was already in local storage\n"
     ]
    }
   ],
   "source": [
    "rides = fetch_batch_raw_data(from_date= fetch_data_from, to_date= fetch_data_to)"
   ]
  },
  {
   "cell_type": "code",
   "execution_count": 5,
   "metadata": {},
   "outputs": [
    {
     "name": "stderr",
     "output_type": "stream",
     "text": [
      "100%|██████████| 257/257 [00:00<00:00, 361.87it/s]\n"
     ]
    }
   ],
   "source": [
    "from src.data import transform_raw_data_into_ts_data\n",
    "ts_data = transform_raw_data_into_ts_data(rides)"
   ]
  },
  {
   "cell_type": "code",
   "execution_count": 6,
   "metadata": {},
   "outputs": [
    {
     "name": "stdout",
     "output_type": "stream",
     "text": [
      "Connected. Call `.close()` to terminate connection gracefully.\n",
      "\n",
      "Logged in to project, explore it here https://c.app.hopsworks.ai:443/p/424087\n",
      "Connected. Call `.close()` to terminate connection gracefully.\n"
     ]
    }
   ],
   "source": [
    "import hopsworks\n",
    "\n",
    "# connect to the project\n",
    "project = hopsworks.login(\n",
    "    project=config.HOPSWORKS_PROJECT_NAME,\n",
    "    api_key_value=config.HOPSWORKS_API_KEY\n",
    ")\n",
    "\n",
    "# connect to the feature store\n",
    "feature_store = project.get_feature_store()\n",
    "\n",
    "# connect to the feature group\n",
    "feature_group = feature_store.get_or_create_feature_group(\n",
    "    name=config.FEATURE_GROUP_NAME,\n",
    "    version=config.FEATURE_GROUP_VERSION,\n",
    "    description=\"Time-series data at hourly frequency\",\n",
    "    primary_key = ['pickup_location_id', 'pickup_ts'],\n",
    "    event_time='pickup_ts',\n",
    ")"
   ]
  },
  {
   "cell_type": "code",
   "execution_count": 7,
   "metadata": {},
   "outputs": [
    {
     "data": {
      "application/vnd.jupyter.widget-view+json": {
       "model_id": "9b24017d48104306bf1100e68b812f6a",
       "version_major": 2,
       "version_minor": 0
      },
      "text/plain": [
       "Uploading Dataframe: 0.00% |          | Rows 0/172704 | Elapsed Time: 00:00 | Remaining Time: ?"
      ]
     },
     "metadata": {},
     "output_type": "display_data"
    },
    {
     "name": "stdout",
     "output_type": "stream",
     "text": [
      "Launching job: time_series_hourly_feature_group_1_offline_fg_materialization\n",
      "Job started successfully, you can follow the progress at \n",
      "https://c.app.hopsworks.ai/p/424087/jobs/named/time_series_hourly_feature_group_1_offline_fg_materialization/executions\n"
     ]
    },
    {
     "data": {
      "text/plain": [
       "(<hsfs.core.job.Job at 0x23645b0a100>, None)"
      ]
     },
     "execution_count": 7,
     "metadata": {},
     "output_type": "execute_result"
    }
   ],
   "source": [
    "feature_group.insert(ts_data, write_options={\"wait_for_job\": False})"
   ]
  }
 ],
 "metadata": {
  "kernelspec": {
   "display_name": "taxienv",
   "language": "python",
   "name": "python3"
  },
  "language_info": {
   "codemirror_mode": {
    "name": "ipython",
    "version": 3
   },
   "file_extension": ".py",
   "mimetype": "text/x-python",
   "name": "python",
   "nbconvert_exporter": "python",
   "pygments_lexer": "ipython3",
   "version": "3.8.10"
  }
 },
 "nbformat": 4,
 "nbformat_minor": 2
}

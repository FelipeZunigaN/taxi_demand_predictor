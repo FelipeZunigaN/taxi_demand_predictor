{
 "cells": [
  {
   "cell_type": "code",
   "execution_count": null,
   "metadata": {},
   "outputs": [],
   "source": [
    "import warnings\n",
    "warnings.filterwarnings(\"ignore\")"
   ]
  },
  {
   "cell_type": "code",
   "execution_count": 1,
   "metadata": {},
   "outputs": [],
   "source": [
    "import pandas as pd\n",
    "from src.paths import TRANSFORMED_DATA_DIR\n",
    "\n",
    "df = pd.read_parquet(TRANSFORMED_DATA_DIR / 'tabular_data.pq')"
   ]
  },
  {
   "cell_type": "code",
   "execution_count": 2,
   "metadata": {},
   "outputs": [],
   "source": [
    "from src.data_split import train_test_split\n",
    "from datetime import datetime\n",
    "\n",
    "X_train, y_train, X_test, y_test =train_test_split(df, \n",
    "    cutoff_date=datetime(2022, 6, 1, 0, 0 ,0),\n",
    "    target_column_name='target_ride_next_hour')"
   ]
  },
  {
   "cell_type": "code",
   "execution_count": 3,
   "metadata": {},
   "outputs": [
    {
     "name": "stderr",
     "output_type": "stream",
     "text": [
      "c:\\Users\\ingfz\\ML Projects\\taxi_demand_predictor\\taxienv\\lib\\site-packages\\tqdm\\auto.py:21: TqdmWarning: IProgress not found. Please update jupyter and ipywidgets. See https://ipywidgets.readthedocs.io/en/stable/user_install.html\n",
      "  from .autonotebook import tqdm as notebook_tqdm\n"
     ]
    }
   ],
   "source": [
    "import numpy as np\n",
    "from sklearn.model_selection import KFold, TimeSeriesSplit\n",
    "from sklearn.pipeline import make_pipeline\n",
    "from sklearn.metrics import mean_absolute_error\n",
    "import optuna\n",
    "\n",
    "from src.model import get_pipeline\n",
    "\n",
    "def objective(trial: optuna.trial.Trial) -> float:\n",
    "\n",
    "    hyperparams = {\n",
    "        \"metrics\": 'mae',\n",
    "        \"verbose\": -1,\n",
    "        \"num_leaves\": trial.suggest_int(\"num_leaves\", 2, 256),\n",
    "        \"feature_fraction\": trial.suggest_float(\"feature_fraction\", 0.2, 1.0),\n",
    "        \"bagging_fraction\": trial.suggest_float(\"bagging_fraction\", 0.2, 1.0),\n",
    "        \"min_child_samples\": trial.suggest_float(\"min_child_samples\", 3, 100),\n",
    "    }\n",
    "\n",
    "    tss = TimeSeriesSplit(n_splits=4)\n",
    "    scores = []\n",
    "\n",
    "    for train_index, val_index in tss.split(X_train):\n",
    "\n",
    "        X_train_, X_val_ = X_train.iloc[train_index, :], X_train.iloc[val_index, :]\n",
    "        y_train_, y_val_ = y_train.iloc[train_index, :], y_train.iloc[val_index, :]\n",
    "\n",
    "        pipeline = get_pipeline(**hyperparams)\n",
    "        pipeline.fit(X_train_, y_train_)\n",
    "\n",
    "        y_pred = pipeline.predict(X_val_)\n",
    "        mae = mean_absolute_error(y_val_, y_pred)\n",
    "\n",
    "        return np.array(scores).mean()\n"
   ]
  },
  {
   "cell_type": "code",
   "execution_count": 4,
   "metadata": {},
   "outputs": [
    {
     "name": "stderr",
     "output_type": "stream",
     "text": [
      "[I 2024-07-28 20:42:54,008] A new study created in memory with name: no-name-b6c27ce7-1c2d-4001-8722-84c4c14e3203\n",
      "[W 2024-07-28 20:42:54,287] Trial 0 failed with parameters: {'num_leaves': 99, 'feature_fraction': 0.7988659392773367, 'bagging_fraction': 0.7978312474320466, 'min_child_samples': 89.86275414889485} because of the following error: IndexingError('Too many indexers').\n",
      "Traceback (most recent call last):\n",
      "  File \"c:\\Users\\ingfz\\ML Projects\\taxi_demand_predictor\\taxienv\\lib\\site-packages\\optuna\\study\\_optimize.py\", line 196, in _run_trial\n",
      "    value_or_values = func(trial)\n",
      "  File \"C:\\TEMP\\ipykernel_6752\\2897637355.py\", line 26, in objective\n",
      "    y_train_, y_val_ = y_train.iloc[train_index, :], y_train.iloc[val_index, :]\n",
      "  File \"c:\\Users\\ingfz\\ML Projects\\taxi_demand_predictor\\taxienv\\lib\\site-packages\\pandas\\core\\indexing.py\", line 1097, in __getitem__\n",
      "    return self._getitem_tuple(key)\n",
      "  File \"c:\\Users\\ingfz\\ML Projects\\taxi_demand_predictor\\taxienv\\lib\\site-packages\\pandas\\core\\indexing.py\", line 1594, in _getitem_tuple\n",
      "    tup = self._validate_tuple_indexer(tup)\n",
      "  File \"c:\\Users\\ingfz\\ML Projects\\taxi_demand_predictor\\taxienv\\lib\\site-packages\\pandas\\core\\indexing.py\", line 900, in _validate_tuple_indexer\n",
      "    key = self._validate_key_length(key)\n",
      "  File \"c:\\Users\\ingfz\\ML Projects\\taxi_demand_predictor\\taxienv\\lib\\site-packages\\pandas\\core\\indexing.py\", line 939, in _validate_key_length\n",
      "    raise IndexingError(\"Too many indexers\")\n",
      "pandas.errors.IndexingError: Too many indexers\n",
      "[W 2024-07-28 20:42:54,305] Trial 0 failed with value None.\n"
     ]
    },
    {
     "ename": "IndexingError",
     "evalue": "Too many indexers",
     "output_type": "error",
     "traceback": [
      "\u001b[1;31m---------------------------------------------------------------------------\u001b[0m",
      "\u001b[1;31mIndexingError\u001b[0m                             Traceback (most recent call last)",
      "Cell \u001b[1;32mIn[4], line 2\u001b[0m\n\u001b[0;32m      1\u001b[0m study \u001b[38;5;241m=\u001b[39m optuna\u001b[38;5;241m.\u001b[39mcreate_study(direction\u001b[38;5;241m=\u001b[39m\u001b[38;5;124m'\u001b[39m\u001b[38;5;124mminimize\u001b[39m\u001b[38;5;124m'\u001b[39m)\n\u001b[1;32m----> 2\u001b[0m \u001b[43mstudy\u001b[49m\u001b[38;5;241;43m.\u001b[39;49m\u001b[43moptimize\u001b[49m\u001b[43m(\u001b[49m\u001b[43mobjective\u001b[49m\u001b[43m,\u001b[49m\u001b[43m \u001b[49m\u001b[43mn_trials\u001b[49m\u001b[38;5;241;43m=\u001b[39;49m\u001b[38;5;241;43m5\u001b[39;49m\u001b[43m)\u001b[49m\n",
      "File \u001b[1;32mc:\\Users\\ingfz\\ML Projects\\taxi_demand_predictor\\taxienv\\lib\\site-packages\\optuna\\study\\study.py:451\u001b[0m, in \u001b[0;36mStudy.optimize\u001b[1;34m(self, func, n_trials, timeout, n_jobs, catch, callbacks, gc_after_trial, show_progress_bar)\u001b[0m\n\u001b[0;32m    348\u001b[0m \u001b[38;5;28;01mdef\u001b[39;00m \u001b[38;5;21moptimize\u001b[39m(\n\u001b[0;32m    349\u001b[0m     \u001b[38;5;28mself\u001b[39m,\n\u001b[0;32m    350\u001b[0m     func: ObjectiveFuncType,\n\u001b[1;32m   (...)\u001b[0m\n\u001b[0;32m    357\u001b[0m     show_progress_bar: \u001b[38;5;28mbool\u001b[39m \u001b[38;5;241m=\u001b[39m \u001b[38;5;28;01mFalse\u001b[39;00m,\n\u001b[0;32m    358\u001b[0m ) \u001b[38;5;241m-\u001b[39m\u001b[38;5;241m>\u001b[39m \u001b[38;5;28;01mNone\u001b[39;00m:\n\u001b[0;32m    359\u001b[0m \u001b[38;5;250m    \u001b[39m\u001b[38;5;124;03m\"\"\"Optimize an objective function.\u001b[39;00m\n\u001b[0;32m    360\u001b[0m \n\u001b[0;32m    361\u001b[0m \u001b[38;5;124;03m    Optimization is done by choosing a suitable set of hyperparameter values from a given\u001b[39;00m\n\u001b[1;32m   (...)\u001b[0m\n\u001b[0;32m    449\u001b[0m \u001b[38;5;124;03m            If nested invocation of this method occurs.\u001b[39;00m\n\u001b[0;32m    450\u001b[0m \u001b[38;5;124;03m    \"\"\"\u001b[39;00m\n\u001b[1;32m--> 451\u001b[0m     \u001b[43m_optimize\u001b[49m\u001b[43m(\u001b[49m\n\u001b[0;32m    452\u001b[0m \u001b[43m        \u001b[49m\u001b[43mstudy\u001b[49m\u001b[38;5;241;43m=\u001b[39;49m\u001b[38;5;28;43mself\u001b[39;49m\u001b[43m,\u001b[49m\n\u001b[0;32m    453\u001b[0m \u001b[43m        \u001b[49m\u001b[43mfunc\u001b[49m\u001b[38;5;241;43m=\u001b[39;49m\u001b[43mfunc\u001b[49m\u001b[43m,\u001b[49m\n\u001b[0;32m    454\u001b[0m \u001b[43m        \u001b[49m\u001b[43mn_trials\u001b[49m\u001b[38;5;241;43m=\u001b[39;49m\u001b[43mn_trials\u001b[49m\u001b[43m,\u001b[49m\n\u001b[0;32m    455\u001b[0m \u001b[43m        \u001b[49m\u001b[43mtimeout\u001b[49m\u001b[38;5;241;43m=\u001b[39;49m\u001b[43mtimeout\u001b[49m\u001b[43m,\u001b[49m\n\u001b[0;32m    456\u001b[0m \u001b[43m        \u001b[49m\u001b[43mn_jobs\u001b[49m\u001b[38;5;241;43m=\u001b[39;49m\u001b[43mn_jobs\u001b[49m\u001b[43m,\u001b[49m\n\u001b[0;32m    457\u001b[0m \u001b[43m        \u001b[49m\u001b[43mcatch\u001b[49m\u001b[38;5;241;43m=\u001b[39;49m\u001b[38;5;28;43mtuple\u001b[39;49m\u001b[43m(\u001b[49m\u001b[43mcatch\u001b[49m\u001b[43m)\u001b[49m\u001b[43m \u001b[49m\u001b[38;5;28;43;01mif\u001b[39;49;00m\u001b[43m \u001b[49m\u001b[38;5;28;43misinstance\u001b[39;49m\u001b[43m(\u001b[49m\u001b[43mcatch\u001b[49m\u001b[43m,\u001b[49m\u001b[43m \u001b[49m\u001b[43mIterable\u001b[49m\u001b[43m)\u001b[49m\u001b[43m \u001b[49m\u001b[38;5;28;43;01melse\u001b[39;49;00m\u001b[43m \u001b[49m\u001b[43m(\u001b[49m\u001b[43mcatch\u001b[49m\u001b[43m,\u001b[49m\u001b[43m)\u001b[49m\u001b[43m,\u001b[49m\n\u001b[0;32m    458\u001b[0m \u001b[43m        \u001b[49m\u001b[43mcallbacks\u001b[49m\u001b[38;5;241;43m=\u001b[39;49m\u001b[43mcallbacks\u001b[49m\u001b[43m,\u001b[49m\n\u001b[0;32m    459\u001b[0m \u001b[43m        \u001b[49m\u001b[43mgc_after_trial\u001b[49m\u001b[38;5;241;43m=\u001b[39;49m\u001b[43mgc_after_trial\u001b[49m\u001b[43m,\u001b[49m\n\u001b[0;32m    460\u001b[0m \u001b[43m        \u001b[49m\u001b[43mshow_progress_bar\u001b[49m\u001b[38;5;241;43m=\u001b[39;49m\u001b[43mshow_progress_bar\u001b[49m\u001b[43m,\u001b[49m\n\u001b[0;32m    461\u001b[0m \u001b[43m    \u001b[49m\u001b[43m)\u001b[49m\n",
      "File \u001b[1;32mc:\\Users\\ingfz\\ML Projects\\taxi_demand_predictor\\taxienv\\lib\\site-packages\\optuna\\study\\_optimize.py:62\u001b[0m, in \u001b[0;36m_optimize\u001b[1;34m(study, func, n_trials, timeout, n_jobs, catch, callbacks, gc_after_trial, show_progress_bar)\u001b[0m\n\u001b[0;32m     60\u001b[0m \u001b[38;5;28;01mtry\u001b[39;00m:\n\u001b[0;32m     61\u001b[0m     \u001b[38;5;28;01mif\u001b[39;00m n_jobs \u001b[38;5;241m==\u001b[39m \u001b[38;5;241m1\u001b[39m:\n\u001b[1;32m---> 62\u001b[0m         \u001b[43m_optimize_sequential\u001b[49m\u001b[43m(\u001b[49m\n\u001b[0;32m     63\u001b[0m \u001b[43m            \u001b[49m\u001b[43mstudy\u001b[49m\u001b[43m,\u001b[49m\n\u001b[0;32m     64\u001b[0m \u001b[43m            \u001b[49m\u001b[43mfunc\u001b[49m\u001b[43m,\u001b[49m\n\u001b[0;32m     65\u001b[0m \u001b[43m            \u001b[49m\u001b[43mn_trials\u001b[49m\u001b[43m,\u001b[49m\n\u001b[0;32m     66\u001b[0m \u001b[43m            \u001b[49m\u001b[43mtimeout\u001b[49m\u001b[43m,\u001b[49m\n\u001b[0;32m     67\u001b[0m \u001b[43m            \u001b[49m\u001b[43mcatch\u001b[49m\u001b[43m,\u001b[49m\n\u001b[0;32m     68\u001b[0m \u001b[43m            \u001b[49m\u001b[43mcallbacks\u001b[49m\u001b[43m,\u001b[49m\n\u001b[0;32m     69\u001b[0m \u001b[43m            \u001b[49m\u001b[43mgc_after_trial\u001b[49m\u001b[43m,\u001b[49m\n\u001b[0;32m     70\u001b[0m \u001b[43m            \u001b[49m\u001b[43mreseed_sampler_rng\u001b[49m\u001b[38;5;241;43m=\u001b[39;49m\u001b[38;5;28;43;01mFalse\u001b[39;49;00m\u001b[43m,\u001b[49m\n\u001b[0;32m     71\u001b[0m \u001b[43m            \u001b[49m\u001b[43mtime_start\u001b[49m\u001b[38;5;241;43m=\u001b[39;49m\u001b[38;5;28;43;01mNone\u001b[39;49;00m\u001b[43m,\u001b[49m\n\u001b[0;32m     72\u001b[0m \u001b[43m            \u001b[49m\u001b[43mprogress_bar\u001b[49m\u001b[38;5;241;43m=\u001b[39;49m\u001b[43mprogress_bar\u001b[49m\u001b[43m,\u001b[49m\n\u001b[0;32m     73\u001b[0m \u001b[43m        \u001b[49m\u001b[43m)\u001b[49m\n\u001b[0;32m     74\u001b[0m     \u001b[38;5;28;01melse\u001b[39;00m:\n\u001b[0;32m     75\u001b[0m         \u001b[38;5;28;01mif\u001b[39;00m n_jobs \u001b[38;5;241m==\u001b[39m \u001b[38;5;241m-\u001b[39m\u001b[38;5;241m1\u001b[39m:\n",
      "File \u001b[1;32mc:\\Users\\ingfz\\ML Projects\\taxi_demand_predictor\\taxienv\\lib\\site-packages\\optuna\\study\\_optimize.py:159\u001b[0m, in \u001b[0;36m_optimize_sequential\u001b[1;34m(study, func, n_trials, timeout, catch, callbacks, gc_after_trial, reseed_sampler_rng, time_start, progress_bar)\u001b[0m\n\u001b[0;32m    156\u001b[0m         \u001b[38;5;28;01mbreak\u001b[39;00m\n\u001b[0;32m    158\u001b[0m \u001b[38;5;28;01mtry\u001b[39;00m:\n\u001b[1;32m--> 159\u001b[0m     frozen_trial \u001b[38;5;241m=\u001b[39m \u001b[43m_run_trial\u001b[49m\u001b[43m(\u001b[49m\u001b[43mstudy\u001b[49m\u001b[43m,\u001b[49m\u001b[43m \u001b[49m\u001b[43mfunc\u001b[49m\u001b[43m,\u001b[49m\u001b[43m \u001b[49m\u001b[43mcatch\u001b[49m\u001b[43m)\u001b[49m\n\u001b[0;32m    160\u001b[0m \u001b[38;5;28;01mfinally\u001b[39;00m:\n\u001b[0;32m    161\u001b[0m     \u001b[38;5;66;03m# The following line mitigates memory problems that can be occurred in some\u001b[39;00m\n\u001b[0;32m    162\u001b[0m     \u001b[38;5;66;03m# environments (e.g., services that use computing containers such as GitHub Actions).\u001b[39;00m\n\u001b[0;32m    163\u001b[0m     \u001b[38;5;66;03m# Please refer to the following PR for further details:\u001b[39;00m\n\u001b[0;32m    164\u001b[0m     \u001b[38;5;66;03m# https://github.com/optuna/optuna/pull/325.\u001b[39;00m\n\u001b[0;32m    165\u001b[0m     \u001b[38;5;28;01mif\u001b[39;00m gc_after_trial:\n",
      "File \u001b[1;32mc:\\Users\\ingfz\\ML Projects\\taxi_demand_predictor\\taxienv\\lib\\site-packages\\optuna\\study\\_optimize.py:247\u001b[0m, in \u001b[0;36m_run_trial\u001b[1;34m(study, func, catch)\u001b[0m\n\u001b[0;32m    240\u001b[0m         \u001b[38;5;28;01massert\u001b[39;00m \u001b[38;5;28;01mFalse\u001b[39;00m, \u001b[38;5;124m\"\u001b[39m\u001b[38;5;124mShould not reach.\u001b[39m\u001b[38;5;124m\"\u001b[39m\n\u001b[0;32m    242\u001b[0m \u001b[38;5;28;01mif\u001b[39;00m (\n\u001b[0;32m    243\u001b[0m     frozen_trial\u001b[38;5;241m.\u001b[39mstate \u001b[38;5;241m==\u001b[39m TrialState\u001b[38;5;241m.\u001b[39mFAIL\n\u001b[0;32m    244\u001b[0m     \u001b[38;5;129;01mand\u001b[39;00m func_err \u001b[38;5;129;01mis\u001b[39;00m \u001b[38;5;129;01mnot\u001b[39;00m \u001b[38;5;28;01mNone\u001b[39;00m\n\u001b[0;32m    245\u001b[0m     \u001b[38;5;129;01mand\u001b[39;00m \u001b[38;5;129;01mnot\u001b[39;00m \u001b[38;5;28misinstance\u001b[39m(func_err, catch)\n\u001b[0;32m    246\u001b[0m ):\n\u001b[1;32m--> 247\u001b[0m     \u001b[38;5;28;01mraise\u001b[39;00m func_err\n\u001b[0;32m    248\u001b[0m \u001b[38;5;28;01mreturn\u001b[39;00m frozen_trial\n",
      "File \u001b[1;32mc:\\Users\\ingfz\\ML Projects\\taxi_demand_predictor\\taxienv\\lib\\site-packages\\optuna\\study\\_optimize.py:196\u001b[0m, in \u001b[0;36m_run_trial\u001b[1;34m(study, func, catch)\u001b[0m\n\u001b[0;32m    194\u001b[0m \u001b[38;5;28;01mwith\u001b[39;00m get_heartbeat_thread(trial\u001b[38;5;241m.\u001b[39m_trial_id, study\u001b[38;5;241m.\u001b[39m_storage):\n\u001b[0;32m    195\u001b[0m     \u001b[38;5;28;01mtry\u001b[39;00m:\n\u001b[1;32m--> 196\u001b[0m         value_or_values \u001b[38;5;241m=\u001b[39m \u001b[43mfunc\u001b[49m\u001b[43m(\u001b[49m\u001b[43mtrial\u001b[49m\u001b[43m)\u001b[49m\n\u001b[0;32m    197\u001b[0m     \u001b[38;5;28;01mexcept\u001b[39;00m exceptions\u001b[38;5;241m.\u001b[39mTrialPruned \u001b[38;5;28;01mas\u001b[39;00m e:\n\u001b[0;32m    198\u001b[0m         \u001b[38;5;66;03m# TODO(mamu): Handle multi-objective cases.\u001b[39;00m\n\u001b[0;32m    199\u001b[0m         state \u001b[38;5;241m=\u001b[39m TrialState\u001b[38;5;241m.\u001b[39mPRUNED\n",
      "Cell \u001b[1;32mIn[3], line 26\u001b[0m, in \u001b[0;36mobjective\u001b[1;34m(trial)\u001b[0m\n\u001b[0;32m     23\u001b[0m \u001b[38;5;28;01mfor\u001b[39;00m train_index, val_index \u001b[38;5;129;01min\u001b[39;00m tss\u001b[38;5;241m.\u001b[39msplit(X_train):\n\u001b[0;32m     25\u001b[0m     X_train_, X_val_ \u001b[38;5;241m=\u001b[39m X_train\u001b[38;5;241m.\u001b[39miloc[train_index, :], X_train\u001b[38;5;241m.\u001b[39miloc[val_index, :]\n\u001b[1;32m---> 26\u001b[0m     y_train_, y_val_ \u001b[38;5;241m=\u001b[39m \u001b[43my_train\u001b[49m\u001b[38;5;241;43m.\u001b[39;49m\u001b[43miloc\u001b[49m\u001b[43m[\u001b[49m\u001b[43mtrain_index\u001b[49m\u001b[43m,\u001b[49m\u001b[43m \u001b[49m\u001b[43m:\u001b[49m\u001b[43m]\u001b[49m, y_train\u001b[38;5;241m.\u001b[39miloc[val_index, :]\n\u001b[0;32m     28\u001b[0m     pipeline \u001b[38;5;241m=\u001b[39m get_pipeline(\u001b[38;5;241m*\u001b[39m\u001b[38;5;241m*\u001b[39mhyperparams)\n\u001b[0;32m     29\u001b[0m     pipeline\u001b[38;5;241m.\u001b[39mfit(X_train_, y_train_)\n",
      "File \u001b[1;32mc:\\Users\\ingfz\\ML Projects\\taxi_demand_predictor\\taxienv\\lib\\site-packages\\pandas\\core\\indexing.py:1097\u001b[0m, in \u001b[0;36m_LocationIndexer.__getitem__\u001b[1;34m(self, key)\u001b[0m\n\u001b[0;32m   1095\u001b[0m     \u001b[38;5;28;01mif\u001b[39;00m \u001b[38;5;28mself\u001b[39m\u001b[38;5;241m.\u001b[39m_is_scalar_access(key):\n\u001b[0;32m   1096\u001b[0m         \u001b[38;5;28;01mreturn\u001b[39;00m \u001b[38;5;28mself\u001b[39m\u001b[38;5;241m.\u001b[39mobj\u001b[38;5;241m.\u001b[39m_get_value(\u001b[38;5;241m*\u001b[39mkey, takeable\u001b[38;5;241m=\u001b[39m\u001b[38;5;28mself\u001b[39m\u001b[38;5;241m.\u001b[39m_takeable)\n\u001b[1;32m-> 1097\u001b[0m     \u001b[38;5;28;01mreturn\u001b[39;00m \u001b[38;5;28;43mself\u001b[39;49m\u001b[38;5;241;43m.\u001b[39;49m\u001b[43m_getitem_tuple\u001b[49m\u001b[43m(\u001b[49m\u001b[43mkey\u001b[49m\u001b[43m)\u001b[49m\n\u001b[0;32m   1098\u001b[0m \u001b[38;5;28;01melse\u001b[39;00m:\n\u001b[0;32m   1099\u001b[0m     \u001b[38;5;66;03m# we by definition only have the 0th axis\u001b[39;00m\n\u001b[0;32m   1100\u001b[0m     axis \u001b[38;5;241m=\u001b[39m \u001b[38;5;28mself\u001b[39m\u001b[38;5;241m.\u001b[39maxis \u001b[38;5;129;01mor\u001b[39;00m \u001b[38;5;241m0\u001b[39m\n",
      "File \u001b[1;32mc:\\Users\\ingfz\\ML Projects\\taxi_demand_predictor\\taxienv\\lib\\site-packages\\pandas\\core\\indexing.py:1594\u001b[0m, in \u001b[0;36m_iLocIndexer._getitem_tuple\u001b[1;34m(self, tup)\u001b[0m\n\u001b[0;32m   1593\u001b[0m \u001b[38;5;28;01mdef\u001b[39;00m \u001b[38;5;21m_getitem_tuple\u001b[39m(\u001b[38;5;28mself\u001b[39m, tup: \u001b[38;5;28mtuple\u001b[39m):\n\u001b[1;32m-> 1594\u001b[0m     tup \u001b[38;5;241m=\u001b[39m \u001b[38;5;28;43mself\u001b[39;49m\u001b[38;5;241;43m.\u001b[39;49m\u001b[43m_validate_tuple_indexer\u001b[49m\u001b[43m(\u001b[49m\u001b[43mtup\u001b[49m\u001b[43m)\u001b[49m\n\u001b[0;32m   1595\u001b[0m     \u001b[38;5;28;01mwith\u001b[39;00m suppress(IndexingError):\n\u001b[0;32m   1596\u001b[0m         \u001b[38;5;28;01mreturn\u001b[39;00m \u001b[38;5;28mself\u001b[39m\u001b[38;5;241m.\u001b[39m_getitem_lowerdim(tup)\n",
      "File \u001b[1;32mc:\\Users\\ingfz\\ML Projects\\taxi_demand_predictor\\taxienv\\lib\\site-packages\\pandas\\core\\indexing.py:900\u001b[0m, in \u001b[0;36m_LocationIndexer._validate_tuple_indexer\u001b[1;34m(self, key)\u001b[0m\n\u001b[0;32m    895\u001b[0m \u001b[38;5;129m@final\u001b[39m\n\u001b[0;32m    896\u001b[0m \u001b[38;5;28;01mdef\u001b[39;00m \u001b[38;5;21m_validate_tuple_indexer\u001b[39m(\u001b[38;5;28mself\u001b[39m, key: \u001b[38;5;28mtuple\u001b[39m) \u001b[38;5;241m-\u001b[39m\u001b[38;5;241m>\u001b[39m \u001b[38;5;28mtuple\u001b[39m:\n\u001b[0;32m    897\u001b[0m \u001b[38;5;250m    \u001b[39m\u001b[38;5;124;03m\"\"\"\u001b[39;00m\n\u001b[0;32m    898\u001b[0m \u001b[38;5;124;03m    Check the key for valid keys across my indexer.\u001b[39;00m\n\u001b[0;32m    899\u001b[0m \u001b[38;5;124;03m    \"\"\"\u001b[39;00m\n\u001b[1;32m--> 900\u001b[0m     key \u001b[38;5;241m=\u001b[39m \u001b[38;5;28;43mself\u001b[39;49m\u001b[38;5;241;43m.\u001b[39;49m\u001b[43m_validate_key_length\u001b[49m\u001b[43m(\u001b[49m\u001b[43mkey\u001b[49m\u001b[43m)\u001b[49m\n\u001b[0;32m    901\u001b[0m     key \u001b[38;5;241m=\u001b[39m \u001b[38;5;28mself\u001b[39m\u001b[38;5;241m.\u001b[39m_expand_ellipsis(key)\n\u001b[0;32m    902\u001b[0m     \u001b[38;5;28;01mfor\u001b[39;00m i, k \u001b[38;5;129;01min\u001b[39;00m \u001b[38;5;28menumerate\u001b[39m(key):\n",
      "File \u001b[1;32mc:\\Users\\ingfz\\ML Projects\\taxi_demand_predictor\\taxienv\\lib\\site-packages\\pandas\\core\\indexing.py:939\u001b[0m, in \u001b[0;36m_LocationIndexer._validate_key_length\u001b[1;34m(self, key)\u001b[0m\n\u001b[0;32m    937\u001b[0m             \u001b[38;5;28;01mraise\u001b[39;00m IndexingError(_one_ellipsis_message)\n\u001b[0;32m    938\u001b[0m         \u001b[38;5;28;01mreturn\u001b[39;00m \u001b[38;5;28mself\u001b[39m\u001b[38;5;241m.\u001b[39m_validate_key_length(key)\n\u001b[1;32m--> 939\u001b[0m     \u001b[38;5;28;01mraise\u001b[39;00m IndexingError(\u001b[38;5;124m\"\u001b[39m\u001b[38;5;124mToo many indexers\u001b[39m\u001b[38;5;124m\"\u001b[39m)\n\u001b[0;32m    940\u001b[0m \u001b[38;5;28;01mreturn\u001b[39;00m key\n",
      "\u001b[1;31mIndexingError\u001b[0m: Too many indexers"
     ]
    }
   ],
   "source": [
    "study = optuna.create_study(direction='minimize')\n",
    "study.optimize(objective, n_trials=5)"
   ]
  },
  {
   "cell_type": "code",
   "execution_count": 6,
   "metadata": {},
   "outputs": [],
   "source": [
    "# study.best_trial.params"
   ]
  },
  {
   "cell_type": "code",
   "execution_count": 7,
   "metadata": {},
   "outputs": [],
   "source": [
    "best_params = {'num_leaves': 161, \n",
    "               'feature_fraction':0.6402569, \n",
    "               'bagging_fraction':0.6253098, \n",
    "               'min_child_samples':34}"
   ]
  },
  {
   "cell_type": "code",
   "execution_count": 8,
   "metadata": {},
   "outputs": [
    {
     "name": "stdout",
     "output_type": "stream",
     "text": [
      "[LightGBM] [Warning] feature_fraction is set=0.6402569, colsample_bytree=1.0 will be ignored. Current value: feature_fraction=0.6402569\n",
      "[LightGBM] [Warning] bagging_fraction is set=0.6253098, subsample=1.0 will be ignored. Current value: bagging_fraction=0.6253098\n",
      "[LightGBM] [Warning] feature_fraction is set=0.6402569, colsample_bytree=1.0 will be ignored. Current value: feature_fraction=0.6402569\n",
      "[LightGBM] [Warning] bagging_fraction is set=0.6253098, subsample=1.0 will be ignored. Current value: bagging_fraction=0.6253098\n",
      "[LightGBM] [Info] Auto-choosing col-wise multi-threading, the overhead of testing was 0.214299 seconds.\n",
      "You can set `force_col_wise=true` to remove the overhead.\n",
      "[LightGBM] [Info] Total Bins 154527\n",
      "[LightGBM] [Info] Number of data points in the train set: 32226, number of used features: 675\n",
      "[LightGBM] [Info] Start training from score 11.703562\n"
     ]
    },
    {
     "data": {
      "text/html": [
       "<style>#sk-container-id-1 {color: black;}#sk-container-id-1 pre{padding: 0;}#sk-container-id-1 div.sk-toggleable {background-color: white;}#sk-container-id-1 label.sk-toggleable__label {cursor: pointer;display: block;width: 100%;margin-bottom: 0;padding: 0.3em;box-sizing: border-box;text-align: center;}#sk-container-id-1 label.sk-toggleable__label-arrow:before {content: \"▸\";float: left;margin-right: 0.25em;color: #696969;}#sk-container-id-1 label.sk-toggleable__label-arrow:hover:before {color: black;}#sk-container-id-1 div.sk-estimator:hover label.sk-toggleable__label-arrow:before {color: black;}#sk-container-id-1 div.sk-toggleable__content {max-height: 0;max-width: 0;overflow: hidden;text-align: left;background-color: #f0f8ff;}#sk-container-id-1 div.sk-toggleable__content pre {margin: 0.2em;color: black;border-radius: 0.25em;background-color: #f0f8ff;}#sk-container-id-1 input.sk-toggleable__control:checked~div.sk-toggleable__content {max-height: 200px;max-width: 100%;overflow: auto;}#sk-container-id-1 input.sk-toggleable__control:checked~label.sk-toggleable__label-arrow:before {content: \"▾\";}#sk-container-id-1 div.sk-estimator input.sk-toggleable__control:checked~label.sk-toggleable__label {background-color: #d4ebff;}#sk-container-id-1 div.sk-label input.sk-toggleable__control:checked~label.sk-toggleable__label {background-color: #d4ebff;}#sk-container-id-1 input.sk-hidden--visually {border: 0;clip: rect(1px 1px 1px 1px);clip: rect(1px, 1px, 1px, 1px);height: 1px;margin: -1px;overflow: hidden;padding: 0;position: absolute;width: 1px;}#sk-container-id-1 div.sk-estimator {font-family: monospace;background-color: #f0f8ff;border: 1px dotted black;border-radius: 0.25em;box-sizing: border-box;margin-bottom: 0.5em;}#sk-container-id-1 div.sk-estimator:hover {background-color: #d4ebff;}#sk-container-id-1 div.sk-parallel-item::after {content: \"\";width: 100%;border-bottom: 1px solid gray;flex-grow: 1;}#sk-container-id-1 div.sk-label:hover label.sk-toggleable__label {background-color: #d4ebff;}#sk-container-id-1 div.sk-serial::before {content: \"\";position: absolute;border-left: 1px solid gray;box-sizing: border-box;top: 0;bottom: 0;left: 50%;z-index: 0;}#sk-container-id-1 div.sk-serial {display: flex;flex-direction: column;align-items: center;background-color: white;padding-right: 0.2em;padding-left: 0.2em;position: relative;}#sk-container-id-1 div.sk-item {position: relative;z-index: 1;}#sk-container-id-1 div.sk-parallel {display: flex;align-items: stretch;justify-content: center;background-color: white;position: relative;}#sk-container-id-1 div.sk-item::before, #sk-container-id-1 div.sk-parallel-item::before {content: \"\";position: absolute;border-left: 1px solid gray;box-sizing: border-box;top: 0;bottom: 0;left: 50%;z-index: -1;}#sk-container-id-1 div.sk-parallel-item {display: flex;flex-direction: column;z-index: 1;position: relative;background-color: white;}#sk-container-id-1 div.sk-parallel-item:first-child::after {align-self: flex-end;width: 50%;}#sk-container-id-1 div.sk-parallel-item:last-child::after {align-self: flex-start;width: 50%;}#sk-container-id-1 div.sk-parallel-item:only-child::after {width: 0;}#sk-container-id-1 div.sk-dashed-wrapped {border: 1px dashed gray;margin: 0 0.4em 0.5em 0.4em;box-sizing: border-box;padding-bottom: 0.4em;background-color: white;}#sk-container-id-1 div.sk-label label {font-family: monospace;font-weight: bold;display: inline-block;line-height: 1.2em;}#sk-container-id-1 div.sk-label-container {text-align: center;}#sk-container-id-1 div.sk-container {/* jupyter's `normalize.less` sets `[hidden] { display: none; }` but bootstrap.min.css set `[hidden] { display: none !important; }` so we also need the `!important` here to be able to override the default hidden behavior on the sphinx rendered scikit-learn.org. See: https://github.com/scikit-learn/scikit-learn/issues/21755 */display: inline-block !important;position: relative;}#sk-container-id-1 div.sk-text-repr-fallback {display: none;}</style><div id=\"sk-container-id-1\" class=\"sk-top-container\"><div class=\"sk-text-repr-fallback\"><pre>Pipeline(steps=[(&#x27;functiontransformer&#x27;,\n",
       "                 FunctionTransformer(func=&lt;function average_rides_last_4_weeks at 0x000001D3BAAC4040&gt;)),\n",
       "                (&#x27;temporalfeatureengineer&#x27;, TemporalFeatureEngineer()),\n",
       "                (&#x27;lgbmregressor&#x27;,\n",
       "                 LGBMRegressor(bagging_fraction=0.6253098,\n",
       "                               feature_fraction=0.6402569, min_child_samples=34,\n",
       "                               num_leaves=161))])</pre><b>In a Jupyter environment, please rerun this cell to show the HTML representation or trust the notebook. <br />On GitHub, the HTML representation is unable to render, please try loading this page with nbviewer.org.</b></div><div class=\"sk-container\" hidden><div class=\"sk-item sk-dashed-wrapped\"><div class=\"sk-label-container\"><div class=\"sk-label sk-toggleable\"><input class=\"sk-toggleable__control sk-hidden--visually\" id=\"sk-estimator-id-1\" type=\"checkbox\" ><label for=\"sk-estimator-id-1\" class=\"sk-toggleable__label sk-toggleable__label-arrow\">Pipeline</label><div class=\"sk-toggleable__content\"><pre>Pipeline(steps=[(&#x27;functiontransformer&#x27;,\n",
       "                 FunctionTransformer(func=&lt;function average_rides_last_4_weeks at 0x000001D3BAAC4040&gt;)),\n",
       "                (&#x27;temporalfeatureengineer&#x27;, TemporalFeatureEngineer()),\n",
       "                (&#x27;lgbmregressor&#x27;,\n",
       "                 LGBMRegressor(bagging_fraction=0.6253098,\n",
       "                               feature_fraction=0.6402569, min_child_samples=34,\n",
       "                               num_leaves=161))])</pre></div></div></div><div class=\"sk-serial\"><div class=\"sk-item\"><div class=\"sk-estimator sk-toggleable\"><input class=\"sk-toggleable__control sk-hidden--visually\" id=\"sk-estimator-id-2\" type=\"checkbox\" ><label for=\"sk-estimator-id-2\" class=\"sk-toggleable__label sk-toggleable__label-arrow\">FunctionTransformer</label><div class=\"sk-toggleable__content\"><pre>FunctionTransformer(func=&lt;function average_rides_last_4_weeks at 0x000001D3BAAC4040&gt;)</pre></div></div></div><div class=\"sk-item\"><div class=\"sk-estimator sk-toggleable\"><input class=\"sk-toggleable__control sk-hidden--visually\" id=\"sk-estimator-id-3\" type=\"checkbox\" ><label for=\"sk-estimator-id-3\" class=\"sk-toggleable__label sk-toggleable__label-arrow\">TemporalFeatureEngineer</label><div class=\"sk-toggleable__content\"><pre>TemporalFeatureEngineer()</pre></div></div></div><div class=\"sk-item\"><div class=\"sk-estimator sk-toggleable\"><input class=\"sk-toggleable__control sk-hidden--visually\" id=\"sk-estimator-id-4\" type=\"checkbox\" ><label for=\"sk-estimator-id-4\" class=\"sk-toggleable__label sk-toggleable__label-arrow\">LGBMRegressor</label><div class=\"sk-toggleable__content\"><pre>LGBMRegressor(bagging_fraction=0.6253098, feature_fraction=0.6402569,\n",
       "              min_child_samples=34, num_leaves=161)</pre></div></div></div></div></div></div></div>"
      ],
      "text/plain": [
       "Pipeline(steps=[('functiontransformer',\n",
       "                 FunctionTransformer(func=<function average_rides_last_4_weeks at 0x000001D3BAAC4040>)),\n",
       "                ('temporalfeatureengineer', TemporalFeatureEngineer()),\n",
       "                ('lgbmregressor',\n",
       "                 LGBMRegressor(bagging_fraction=0.6253098,\n",
       "                               feature_fraction=0.6402569, min_child_samples=34,\n",
       "                               num_leaves=161))])"
      ]
     },
     "execution_count": 8,
     "metadata": {},
     "output_type": "execute_result"
    }
   ],
   "source": [
    "pipeline = get_pipeline(**best_params)\n",
    "pipeline.fit(X_train, y_train)"
   ]
  },
  {
   "cell_type": "code",
   "execution_count": 9,
   "metadata": {},
   "outputs": [
    {
     "name": "stdout",
     "output_type": "stream",
     "text": [
      "[LightGBM] [Warning] feature_fraction is set=0.6402569, colsample_bytree=1.0 will be ignored. Current value: feature_fraction=0.6402569\n",
      "[LightGBM] [Warning] bagging_fraction is set=0.6253098, subsample=1.0 will be ignored. Current value: bagging_fraction=0.6253098\n",
      "test_mae=2.5673\n"
     ]
    }
   ],
   "source": [
    "predictions = pipeline.predict(X_test)\n",
    "test_mae = mean_absolute_error(y_test, predictions)\n",
    "print(f'{test_mae=:.4f}')"
   ]
  },
  {
   "cell_type": "code",
   "execution_count": 10,
   "metadata": {},
   "outputs": [
    {
     "data": {
      "application/vnd.plotly.v1+json": {
       "config": {
        "plotlyServerURL": "https://plot.ly"
       },
       "data": [
        {
         "hovertemplate": "x=%{x}<br>y=%{y}<extra></extra>",
         "legendgroup": "",
         "line": {
          "color": "#636efa",
          "dash": "solid"
         },
         "marker": {
          "symbol": "circle"
         },
         "mode": "lines+markers",
         "name": "",
         "orientation": "v",
         "showlegend": false,
         "type": "scatter",
         "x": [
          "2022-11-17T00:00:00",
          "2022-11-17T01:00:00",
          "2022-11-17T02:00:00",
          "2022-11-17T03:00:00",
          "2022-11-17T04:00:00",
          "2022-11-17T05:00:00",
          "2022-11-17T06:00:00",
          "2022-11-17T07:00:00",
          "2022-11-17T08:00:00",
          "2022-11-17T09:00:00",
          "2022-11-17T10:00:00",
          "2022-11-17T11:00:00",
          "2022-11-17T12:00:00",
          "2022-11-17T13:00:00",
          "2022-11-17T14:00:00",
          "2022-11-17T15:00:00",
          "2022-11-17T16:00:00",
          "2022-11-17T17:00:00",
          "2022-11-17T18:00:00",
          "2022-11-17T19:00:00",
          "2022-11-17T20:00:00",
          "2022-11-17T21:00:00",
          "2022-11-17T22:00:00",
          "2022-11-17T23:00:00",
          "2022-11-18T00:00:00",
          "2022-11-18T01:00:00",
          "2022-11-18T02:00:00",
          "2022-11-18T03:00:00",
          "2022-11-18T04:00:00",
          "2022-11-18T05:00:00",
          "2022-11-18T06:00:00",
          "2022-11-18T07:00:00",
          "2022-11-18T08:00:00",
          "2022-11-18T09:00:00",
          "2022-11-18T10:00:00",
          "2022-11-18T11:00:00",
          "2022-11-18T12:00:00",
          "2022-11-18T13:00:00",
          "2022-11-18T14:00:00",
          "2022-11-18T15:00:00",
          "2022-11-18T16:00:00",
          "2022-11-18T17:00:00",
          "2022-11-18T18:00:00",
          "2022-11-18T19:00:00",
          "2022-11-18T20:00:00",
          "2022-11-18T21:00:00",
          "2022-11-18T22:00:00",
          "2022-11-18T23:00:00",
          "2022-11-19T00:00:00",
          "2022-11-19T01:00:00",
          "2022-11-19T02:00:00",
          "2022-11-19T03:00:00",
          "2022-11-19T04:00:00",
          "2022-11-19T05:00:00",
          "2022-11-19T06:00:00",
          "2022-11-19T07:00:00",
          "2022-11-19T08:00:00",
          "2022-11-19T09:00:00",
          "2022-11-19T10:00:00",
          "2022-11-19T11:00:00",
          "2022-11-19T12:00:00",
          "2022-11-19T13:00:00",
          "2022-11-19T14:00:00",
          "2022-11-19T15:00:00",
          "2022-11-19T16:00:00",
          "2022-11-19T17:00:00",
          "2022-11-19T18:00:00",
          "2022-11-19T19:00:00",
          "2022-11-19T20:00:00",
          "2022-11-19T21:00:00",
          "2022-11-19T22:00:00",
          "2022-11-19T23:00:00",
          "2022-11-20T00:00:00",
          "2022-11-20T01:00:00",
          "2022-11-20T02:00:00",
          "2022-11-20T03:00:00",
          "2022-11-20T04:00:00",
          "2022-11-20T05:00:00",
          "2022-11-20T06:00:00",
          "2022-11-20T07:00:00",
          "2022-11-20T08:00:00",
          "2022-11-20T09:00:00",
          "2022-11-20T10:00:00",
          "2022-11-20T11:00:00",
          "2022-11-20T12:00:00",
          "2022-11-20T13:00:00",
          "2022-11-20T14:00:00",
          "2022-11-20T15:00:00",
          "2022-11-20T16:00:00",
          "2022-11-20T17:00:00",
          "2022-11-20T18:00:00",
          "2022-11-20T19:00:00",
          "2022-11-20T20:00:00",
          "2022-11-20T21:00:00",
          "2022-11-20T22:00:00",
          "2022-11-20T23:00:00",
          "2022-11-21T00:00:00",
          "2022-11-21T01:00:00",
          "2022-11-21T02:00:00",
          "2022-11-21T03:00:00",
          "2022-11-21T04:00:00",
          "2022-11-21T05:00:00",
          "2022-11-21T06:00:00",
          "2022-11-21T07:00:00",
          "2022-11-21T08:00:00",
          "2022-11-21T09:00:00",
          "2022-11-21T10:00:00",
          "2022-11-21T11:00:00",
          "2022-11-21T12:00:00",
          "2022-11-21T13:00:00",
          "2022-11-21T14:00:00",
          "2022-11-21T15:00:00",
          "2022-11-21T16:00:00",
          "2022-11-21T17:00:00",
          "2022-11-21T18:00:00",
          "2022-11-21T19:00:00",
          "2022-11-21T20:00:00",
          "2022-11-21T21:00:00",
          "2022-11-21T22:00:00",
          "2022-11-21T23:00:00",
          "2022-11-22T00:00:00",
          "2022-11-22T01:00:00",
          "2022-11-22T02:00:00",
          "2022-11-22T03:00:00",
          "2022-11-22T04:00:00",
          "2022-11-22T05:00:00",
          "2022-11-22T06:00:00",
          "2022-11-22T07:00:00",
          "2022-11-22T08:00:00",
          "2022-11-22T09:00:00",
          "2022-11-22T10:00:00",
          "2022-11-22T11:00:00",
          "2022-11-22T12:00:00",
          "2022-11-22T13:00:00",
          "2022-11-22T14:00:00",
          "2022-11-22T15:00:00",
          "2022-11-22T16:00:00",
          "2022-11-22T17:00:00",
          "2022-11-22T18:00:00",
          "2022-11-22T19:00:00",
          "2022-11-22T20:00:00",
          "2022-11-22T21:00:00",
          "2022-11-22T22:00:00",
          "2022-11-22T23:00:00",
          "2022-11-23T00:00:00",
          "2022-11-23T01:00:00",
          "2022-11-23T02:00:00",
          "2022-11-23T03:00:00",
          "2022-11-23T04:00:00",
          "2022-11-23T05:00:00",
          "2022-11-23T06:00:00",
          "2022-11-23T07:00:00",
          "2022-11-23T08:00:00",
          "2022-11-23T09:00:00",
          "2022-11-23T10:00:00",
          "2022-11-23T11:00:00",
          "2022-11-23T12:00:00",
          "2022-11-23T13:00:00",
          "2022-11-23T14:00:00",
          "2022-11-23T15:00:00",
          "2022-11-23T16:00:00",
          "2022-11-23T17:00:00",
          "2022-11-23T18:00:00",
          "2022-11-23T19:00:00",
          "2022-11-23T20:00:00",
          "2022-11-23T21:00:00",
          "2022-11-23T22:00:00",
          "2022-11-23T23:00:00",
          "2022-11-24T00:00:00",
          "2022-11-24T01:00:00",
          "2022-11-24T02:00:00",
          "2022-11-24T03:00:00",
          "2022-11-24T04:00:00",
          "2022-11-24T05:00:00",
          "2022-11-24T06:00:00",
          "2022-11-24T07:00:00",
          "2022-11-24T08:00:00",
          "2022-11-24T09:00:00",
          "2022-11-24T10:00:00",
          "2022-11-24T11:00:00",
          "2022-11-24T12:00:00",
          "2022-11-24T13:00:00",
          "2022-11-24T14:00:00",
          "2022-11-24T15:00:00",
          "2022-11-24T16:00:00",
          "2022-11-24T17:00:00",
          "2022-11-24T18:00:00",
          "2022-11-24T19:00:00",
          "2022-11-24T20:00:00",
          "2022-11-24T21:00:00",
          "2022-11-24T22:00:00",
          "2022-11-24T23:00:00",
          "2022-11-25T00:00:00",
          "2022-11-25T01:00:00",
          "2022-11-25T02:00:00",
          "2022-11-25T03:00:00",
          "2022-11-25T04:00:00",
          "2022-11-25T05:00:00",
          "2022-11-25T06:00:00",
          "2022-11-25T07:00:00",
          "2022-11-25T08:00:00",
          "2022-11-25T09:00:00",
          "2022-11-25T10:00:00",
          "2022-11-25T11:00:00",
          "2022-11-25T12:00:00",
          "2022-11-25T13:00:00",
          "2022-11-25T14:00:00",
          "2022-11-25T15:00:00",
          "2022-11-25T16:00:00",
          "2022-11-25T17:00:00",
          "2022-11-25T18:00:00",
          "2022-11-25T19:00:00",
          "2022-11-25T20:00:00",
          "2022-11-25T21:00:00",
          "2022-11-25T22:00:00",
          "2022-11-25T23:00:00",
          "2022-11-26T00:00:00",
          "2022-11-26T01:00:00",
          "2022-11-26T02:00:00",
          "2022-11-26T03:00:00",
          "2022-11-26T04:00:00",
          "2022-11-26T05:00:00",
          "2022-11-26T06:00:00",
          "2022-11-26T07:00:00",
          "2022-11-26T08:00:00",
          "2022-11-26T09:00:00",
          "2022-11-26T10:00:00",
          "2022-11-26T11:00:00",
          "2022-11-26T12:00:00",
          "2022-11-26T13:00:00",
          "2022-11-26T14:00:00",
          "2022-11-26T15:00:00",
          "2022-11-26T16:00:00",
          "2022-11-26T17:00:00",
          "2022-11-26T18:00:00",
          "2022-11-26T19:00:00",
          "2022-11-26T20:00:00",
          "2022-11-26T21:00:00",
          "2022-11-26T22:00:00",
          "2022-11-26T23:00:00",
          "2022-11-27T00:00:00",
          "2022-11-27T01:00:00",
          "2022-11-27T02:00:00",
          "2022-11-27T03:00:00",
          "2022-11-27T04:00:00",
          "2022-11-27T05:00:00",
          "2022-11-27T06:00:00",
          "2022-11-27T07:00:00",
          "2022-11-27T08:00:00",
          "2022-11-27T09:00:00",
          "2022-11-27T10:00:00",
          "2022-11-27T11:00:00",
          "2022-11-27T12:00:00",
          "2022-11-27T13:00:00",
          "2022-11-27T14:00:00",
          "2022-11-27T15:00:00",
          "2022-11-27T16:00:00",
          "2022-11-27T17:00:00",
          "2022-11-27T18:00:00",
          "2022-11-27T19:00:00",
          "2022-11-27T20:00:00",
          "2022-11-27T21:00:00",
          "2022-11-27T22:00:00",
          "2022-11-27T23:00:00",
          "2022-11-28T00:00:00",
          "2022-11-28T01:00:00",
          "2022-11-28T02:00:00",
          "2022-11-28T03:00:00",
          "2022-11-28T04:00:00",
          "2022-11-28T05:00:00",
          "2022-11-28T06:00:00",
          "2022-11-28T07:00:00",
          "2022-11-28T08:00:00",
          "2022-11-28T09:00:00",
          "2022-11-28T10:00:00",
          "2022-11-28T11:00:00",
          "2022-11-28T12:00:00",
          "2022-11-28T13:00:00",
          "2022-11-28T14:00:00",
          "2022-11-28T15:00:00",
          "2022-11-28T16:00:00",
          "2022-11-28T17:00:00",
          "2022-11-28T18:00:00",
          "2022-11-28T19:00:00",
          "2022-11-28T20:00:00",
          "2022-11-28T21:00:00",
          "2022-11-28T22:00:00",
          "2022-11-28T23:00:00",
          "2022-11-29T00:00:00",
          "2022-11-29T01:00:00",
          "2022-11-29T02:00:00",
          "2022-11-29T03:00:00",
          "2022-11-29T04:00:00",
          "2022-11-29T05:00:00",
          "2022-11-29T06:00:00",
          "2022-11-29T07:00:00",
          "2022-11-29T08:00:00",
          "2022-11-29T09:00:00",
          "2022-11-29T10:00:00",
          "2022-11-29T11:00:00",
          "2022-11-29T12:00:00",
          "2022-11-29T13:00:00",
          "2022-11-29T14:00:00",
          "2022-11-29T15:00:00",
          "2022-11-29T16:00:00",
          "2022-11-29T17:00:00",
          "2022-11-29T18:00:00",
          "2022-11-29T19:00:00",
          "2022-11-29T20:00:00",
          "2022-11-29T21:00:00",
          "2022-11-29T22:00:00",
          "2022-11-29T23:00:00",
          "2022-11-30T00:00:00",
          "2022-11-30T01:00:00",
          "2022-11-30T02:00:00",
          "2022-11-30T03:00:00",
          "2022-11-30T04:00:00",
          "2022-11-30T05:00:00",
          "2022-11-30T06:00:00",
          "2022-11-30T07:00:00",
          "2022-11-30T08:00:00",
          "2022-11-30T09:00:00",
          "2022-11-30T10:00:00",
          "2022-11-30T11:00:00",
          "2022-11-30T12:00:00",
          "2022-11-30T13:00:00",
          "2022-11-30T14:00:00",
          "2022-11-30T15:00:00",
          "2022-11-30T16:00:00",
          "2022-11-30T17:00:00",
          "2022-11-30T18:00:00",
          "2022-11-30T19:00:00",
          "2022-11-30T20:00:00",
          "2022-11-30T21:00:00",
          "2022-11-30T22:00:00",
          "2022-11-30T23:00:00",
          "2022-12-01T00:00:00",
          "2022-12-01T01:00:00",
          "2022-12-01T02:00:00",
          "2022-12-01T03:00:00",
          "2022-12-01T04:00:00",
          "2022-12-01T05:00:00",
          "2022-12-01T06:00:00",
          "2022-12-01T07:00:00",
          "2022-12-01T08:00:00",
          "2022-12-01T09:00:00",
          "2022-12-01T10:00:00",
          "2022-12-01T11:00:00",
          "2022-12-01T12:00:00",
          "2022-12-01T13:00:00",
          "2022-12-01T14:00:00",
          "2022-12-01T15:00:00",
          "2022-12-01T16:00:00",
          "2022-12-01T17:00:00",
          "2022-12-01T18:00:00",
          "2022-12-01T19:00:00",
          "2022-12-01T20:00:00",
          "2022-12-01T21:00:00",
          "2022-12-01T22:00:00",
          "2022-12-01T23:00:00",
          "2022-12-02T00:00:00",
          "2022-12-02T01:00:00",
          "2022-12-02T02:00:00",
          "2022-12-02T03:00:00",
          "2022-12-02T04:00:00",
          "2022-12-02T05:00:00",
          "2022-12-02T06:00:00",
          "2022-12-02T07:00:00",
          "2022-12-02T08:00:00",
          "2022-12-02T09:00:00",
          "2022-12-02T10:00:00",
          "2022-12-02T11:00:00",
          "2022-12-02T12:00:00",
          "2022-12-02T13:00:00",
          "2022-12-02T14:00:00",
          "2022-12-02T15:00:00",
          "2022-12-02T16:00:00",
          "2022-12-02T17:00:00",
          "2022-12-02T18:00:00",
          "2022-12-02T19:00:00",
          "2022-12-02T20:00:00",
          "2022-12-02T21:00:00",
          "2022-12-02T22:00:00",
          "2022-12-02T23:00:00",
          "2022-12-03T00:00:00",
          "2022-12-03T01:00:00",
          "2022-12-03T02:00:00",
          "2022-12-03T03:00:00",
          "2022-12-03T04:00:00",
          "2022-12-03T05:00:00",
          "2022-12-03T06:00:00",
          "2022-12-03T07:00:00",
          "2022-12-03T08:00:00",
          "2022-12-03T09:00:00",
          "2022-12-03T10:00:00",
          "2022-12-03T11:00:00",
          "2022-12-03T12:00:00",
          "2022-12-03T13:00:00",
          "2022-12-03T14:00:00",
          "2022-12-03T15:00:00",
          "2022-12-03T16:00:00",
          "2022-12-03T17:00:00",
          "2022-12-03T18:00:00",
          "2022-12-03T19:00:00",
          "2022-12-03T20:00:00",
          "2022-12-03T21:00:00",
          "2022-12-03T22:00:00",
          "2022-12-03T23:00:00",
          "2022-12-04T00:00:00",
          "2022-12-04T01:00:00",
          "2022-12-04T02:00:00",
          "2022-12-04T03:00:00",
          "2022-12-04T04:00:00",
          "2022-12-04T05:00:00",
          "2022-12-04T06:00:00",
          "2022-12-04T07:00:00",
          "2022-12-04T08:00:00",
          "2022-12-04T09:00:00",
          "2022-12-04T10:00:00",
          "2022-12-04T11:00:00",
          "2022-12-04T12:00:00",
          "2022-12-04T13:00:00",
          "2022-12-04T14:00:00",
          "2022-12-04T15:00:00",
          "2022-12-04T16:00:00",
          "2022-12-04T17:00:00",
          "2022-12-04T18:00:00",
          "2022-12-04T19:00:00",
          "2022-12-04T20:00:00",
          "2022-12-04T21:00:00",
          "2022-12-04T22:00:00",
          "2022-12-04T23:00:00",
          "2022-12-05T00:00:00",
          "2022-12-05T01:00:00",
          "2022-12-05T02:00:00",
          "2022-12-05T03:00:00",
          "2022-12-05T04:00:00",
          "2022-12-05T05:00:00",
          "2022-12-05T06:00:00",
          "2022-12-05T07:00:00",
          "2022-12-05T08:00:00",
          "2022-12-05T09:00:00",
          "2022-12-05T10:00:00",
          "2022-12-05T11:00:00",
          "2022-12-05T12:00:00",
          "2022-12-05T13:00:00",
          "2022-12-05T14:00:00",
          "2022-12-05T15:00:00",
          "2022-12-05T16:00:00",
          "2022-12-05T17:00:00",
          "2022-12-05T18:00:00",
          "2022-12-05T19:00:00",
          "2022-12-05T20:00:00",
          "2022-12-05T21:00:00",
          "2022-12-05T22:00:00",
          "2022-12-05T23:00:00",
          "2022-12-06T00:00:00",
          "2022-12-06T01:00:00",
          "2022-12-06T02:00:00",
          "2022-12-06T03:00:00",
          "2022-12-06T04:00:00",
          "2022-12-06T05:00:00",
          "2022-12-06T06:00:00",
          "2022-12-06T07:00:00",
          "2022-12-06T08:00:00",
          "2022-12-06T09:00:00",
          "2022-12-06T10:00:00",
          "2022-12-06T11:00:00",
          "2022-12-06T12:00:00",
          "2022-12-06T13:00:00",
          "2022-12-06T14:00:00",
          "2022-12-06T15:00:00",
          "2022-12-06T16:00:00",
          "2022-12-06T17:00:00",
          "2022-12-06T18:00:00",
          "2022-12-06T19:00:00",
          "2022-12-06T20:00:00",
          "2022-12-06T21:00:00",
          "2022-12-06T22:00:00",
          "2022-12-06T23:00:00",
          "2022-12-07T00:00:00",
          "2022-12-07T01:00:00",
          "2022-12-07T02:00:00",
          "2022-12-07T03:00:00",
          "2022-12-07T04:00:00",
          "2022-12-07T05:00:00",
          "2022-12-07T06:00:00",
          "2022-12-07T07:00:00",
          "2022-12-07T08:00:00",
          "2022-12-07T09:00:00",
          "2022-12-07T10:00:00",
          "2022-12-07T11:00:00",
          "2022-12-07T12:00:00",
          "2022-12-07T13:00:00",
          "2022-12-07T14:00:00",
          "2022-12-07T15:00:00",
          "2022-12-07T16:00:00",
          "2022-12-07T17:00:00",
          "2022-12-07T18:00:00",
          "2022-12-07T19:00:00",
          "2022-12-07T20:00:00",
          "2022-12-07T21:00:00",
          "2022-12-07T22:00:00",
          "2022-12-07T23:00:00",
          "2022-12-08T00:00:00",
          "2022-12-08T01:00:00",
          "2022-12-08T02:00:00",
          "2022-12-08T03:00:00",
          "2022-12-08T04:00:00",
          "2022-12-08T05:00:00",
          "2022-12-08T06:00:00",
          "2022-12-08T07:00:00",
          "2022-12-08T08:00:00",
          "2022-12-08T09:00:00",
          "2022-12-08T10:00:00",
          "2022-12-08T11:00:00",
          "2022-12-08T12:00:00",
          "2022-12-08T13:00:00",
          "2022-12-08T14:00:00",
          "2022-12-08T15:00:00",
          "2022-12-08T16:00:00",
          "2022-12-08T17:00:00",
          "2022-12-08T18:00:00",
          "2022-12-08T19:00:00",
          "2022-12-08T20:00:00",
          "2022-12-08T21:00:00",
          "2022-12-08T22:00:00",
          "2022-12-08T23:00:00",
          "2022-12-09T00:00:00",
          "2022-12-09T01:00:00",
          "2022-12-09T02:00:00",
          "2022-12-09T03:00:00",
          "2022-12-09T04:00:00",
          "2022-12-09T05:00:00",
          "2022-12-09T06:00:00",
          "2022-12-09T07:00:00",
          "2022-12-09T08:00:00",
          "2022-12-09T09:00:00",
          "2022-12-09T10:00:00",
          "2022-12-09T11:00:00",
          "2022-12-09T12:00:00",
          "2022-12-09T13:00:00",
          "2022-12-09T14:00:00",
          "2022-12-09T15:00:00",
          "2022-12-09T16:00:00",
          "2022-12-09T17:00:00",
          "2022-12-09T18:00:00",
          "2022-12-09T19:00:00",
          "2022-12-09T20:00:00",
          "2022-12-09T21:00:00",
          "2022-12-09T22:00:00",
          "2022-12-09T23:00:00",
          "2022-12-10T00:00:00",
          "2022-12-10T01:00:00",
          "2022-12-10T02:00:00",
          "2022-12-10T03:00:00",
          "2022-12-10T04:00:00",
          "2022-12-10T05:00:00",
          "2022-12-10T06:00:00",
          "2022-12-10T07:00:00",
          "2022-12-10T08:00:00",
          "2022-12-10T09:00:00",
          "2022-12-10T10:00:00",
          "2022-12-10T11:00:00",
          "2022-12-10T12:00:00",
          "2022-12-10T13:00:00",
          "2022-12-10T14:00:00",
          "2022-12-10T15:00:00",
          "2022-12-10T16:00:00",
          "2022-12-10T17:00:00",
          "2022-12-10T18:00:00",
          "2022-12-10T19:00:00",
          "2022-12-10T20:00:00",
          "2022-12-10T21:00:00",
          "2022-12-10T22:00:00",
          "2022-12-10T23:00:00",
          "2022-12-11T00:00:00",
          "2022-12-11T01:00:00",
          "2022-12-11T02:00:00",
          "2022-12-11T03:00:00",
          "2022-12-11T04:00:00",
          "2022-12-11T05:00:00",
          "2022-12-11T06:00:00",
          "2022-12-11T07:00:00",
          "2022-12-11T08:00:00",
          "2022-12-11T09:00:00",
          "2022-12-11T10:00:00",
          "2022-12-11T11:00:00",
          "2022-12-11T12:00:00",
          "2022-12-11T13:00:00",
          "2022-12-11T14:00:00",
          "2022-12-11T15:00:00",
          "2022-12-11T16:00:00",
          "2022-12-11T17:00:00",
          "2022-12-11T18:00:00",
          "2022-12-11T19:00:00",
          "2022-12-11T20:00:00",
          "2022-12-11T21:00:00",
          "2022-12-11T22:00:00",
          "2022-12-11T23:00:00",
          "2022-12-12T00:00:00",
          "2022-12-12T01:00:00",
          "2022-12-12T02:00:00",
          "2022-12-12T03:00:00",
          "2022-12-12T04:00:00",
          "2022-12-12T05:00:00",
          "2022-12-12T06:00:00",
          "2022-12-12T07:00:00",
          "2022-12-12T08:00:00",
          "2022-12-12T09:00:00",
          "2022-12-12T10:00:00",
          "2022-12-12T11:00:00",
          "2022-12-12T12:00:00",
          "2022-12-12T13:00:00",
          "2022-12-12T14:00:00",
          "2022-12-12T15:00:00",
          "2022-12-12T16:00:00",
          "2022-12-12T17:00:00",
          "2022-12-12T18:00:00",
          "2022-12-12T19:00:00",
          "2022-12-12T20:00:00",
          "2022-12-12T21:00:00",
          "2022-12-12T22:00:00",
          "2022-12-12T23:00:00",
          "2022-12-13T00:00:00",
          "2022-12-13T01:00:00",
          "2022-12-13T02:00:00",
          "2022-12-13T03:00:00",
          "2022-12-13T04:00:00",
          "2022-12-13T05:00:00",
          "2022-12-13T06:00:00",
          "2022-12-13T07:00:00",
          "2022-12-13T08:00:00",
          "2022-12-13T09:00:00",
          "2022-12-13T10:00:00",
          "2022-12-13T11:00:00",
          "2022-12-13T12:00:00",
          "2022-12-13T13:00:00",
          "2022-12-13T14:00:00",
          "2022-12-13T15:00:00",
          "2022-12-13T16:00:00",
          "2022-12-13T17:00:00",
          "2022-12-13T18:00:00",
          "2022-12-13T19:00:00",
          "2022-12-13T20:00:00",
          "2022-12-13T21:00:00",
          "2022-12-13T22:00:00",
          "2022-12-13T23:00:00",
          "2022-12-14T00:00:00",
          "2022-12-14T01:00:00",
          "2022-12-14T02:00:00",
          "2022-12-14T03:00:00",
          "2022-12-14T04:00:00",
          "2022-12-14T05:00:00",
          "2022-12-14T06:00:00",
          "2022-12-14T07:00:00",
          "2022-12-14T08:00:00",
          "2022-12-14T09:00:00",
          "2022-12-14T10:00:00",
          "2022-12-14T11:00:00",
          "2022-12-14T12:00:00",
          "2022-12-14T13:00:00",
          "2022-12-14T14:00:00",
          "2022-12-14T15:00:00",
          "2022-12-14T16:00:00",
          "2022-12-14T17:00:00",
          "2022-12-14T18:00:00",
          "2022-12-14T19:00:00",
          "2022-12-14T20:00:00",
          "2022-12-14T21:00:00",
          "2022-12-14T22:00:00",
          "2022-12-14T23:00:00",
          "2022-12-15T00:00:00"
         ],
         "xaxis": "x",
         "y": [
          1,
          0,
          0,
          1,
          0,
          0,
          0,
          0,
          1,
          0,
          0,
          0,
          1,
          0,
          0,
          1,
          1,
          0,
          3,
          2,
          0,
          1,
          0,
          2,
          0,
          0,
          0,
          0,
          0,
          0,
          0,
          1,
          1,
          1,
          1,
          0,
          1,
          0,
          1,
          2,
          2,
          2,
          1,
          0,
          2,
          1,
          0,
          1,
          2,
          0,
          3,
          0,
          0,
          0,
          0,
          0,
          1,
          1,
          1,
          1,
          1,
          1,
          0,
          1,
          2,
          3,
          1,
          0,
          1,
          1,
          1,
          3,
          2,
          0,
          0,
          0,
          2,
          0,
          0,
          1,
          0,
          1,
          2,
          0,
          4,
          0,
          2,
          2,
          3,
          1,
          1,
          1,
          0,
          0,
          2,
          2,
          0,
          0,
          0,
          0,
          0,
          0,
          1,
          1,
          4,
          4,
          0,
          0,
          0,
          0,
          2,
          3,
          0,
          2,
          0,
          0,
          0,
          1,
          0,
          2,
          0,
          1,
          0,
          0,
          0,
          3,
          1,
          1,
          1,
          1,
          4,
          1,
          3,
          3,
          4,
          1,
          1,
          1,
          1,
          1,
          0,
          1,
          1,
          1,
          0,
          1,
          0,
          0,
          2,
          2,
          0,
          0,
          0,
          0,
          0,
          0,
          0,
          2,
          3,
          3,
          1,
          2,
          2,
          0,
          0,
          0,
          0,
          0,
          2,
          1,
          0,
          0,
          1,
          1,
          0,
          0,
          1,
          0,
          0,
          0,
          2,
          0,
          2,
          3,
          0,
          2,
          0,
          2,
          0,
          1,
          1,
          2,
          0,
          1,
          0,
          0,
          0,
          0,
          0,
          0,
          0,
          0,
          3,
          0,
          1,
          3,
          2,
          0,
          2,
          1,
          0,
          0,
          1,
          2,
          1,
          1,
          0,
          0,
          0,
          1,
          0,
          0,
          0,
          0,
          0,
          0,
          0,
          1,
          0,
          0,
          0,
          1,
          1,
          1,
          0,
          2,
          2,
          1,
          2,
          1,
          1,
          1,
          0,
          0,
          0,
          0,
          0,
          1,
          0,
          1,
          1,
          1,
          0,
          2,
          1,
          1,
          0,
          0,
          1,
          1,
          1,
          0,
          0,
          0,
          0,
          1,
          0,
          0,
          0,
          1,
          1,
          0,
          1,
          0,
          1,
          0,
          0,
          0,
          0,
          0,
          0,
          1,
          0,
          0,
          0,
          0,
          0,
          2,
          0,
          0,
          1,
          0,
          0,
          0,
          0,
          0,
          3,
          2,
          0,
          0,
          3,
          0,
          0,
          0,
          0,
          0,
          0,
          1,
          1,
          1,
          0,
          0,
          0,
          1,
          0,
          1,
          0,
          0,
          1,
          1,
          2,
          1,
          0,
          0,
          1,
          0,
          0,
          0,
          1,
          3,
          0,
          0,
          0,
          2,
          1,
          1,
          1,
          0,
          0,
          0,
          0,
          0,
          0,
          0,
          5,
          1,
          0,
          0,
          1,
          0,
          0,
          0,
          1,
          0,
          1,
          0,
          0,
          0,
          2,
          0,
          1,
          0,
          0,
          0,
          0,
          0,
          0,
          1,
          0,
          0,
          1,
          3,
          0,
          2,
          1,
          1,
          1,
          1,
          0,
          1,
          0,
          2,
          2,
          2,
          2,
          1,
          0,
          0,
          0,
          0,
          0,
          0,
          0,
          0,
          3,
          0,
          0,
          2,
          2,
          0,
          1,
          0,
          0,
          5,
          0,
          0,
          0,
          0,
          3,
          3,
          2,
          1,
          2,
          0,
          1,
          1,
          0,
          2,
          2,
          0,
          0,
          0,
          2,
          1,
          0,
          1,
          0,
          2,
          0,
          0,
          1,
          0,
          0,
          0,
          0,
          0,
          0,
          1,
          0,
          0,
          0,
          2,
          1,
          0,
          2,
          0,
          0,
          0,
          2,
          0,
          0,
          0,
          1,
          0,
          0,
          1,
          1,
          0,
          0,
          0,
          0,
          0,
          1,
          0,
          1,
          3,
          0,
          0,
          0,
          1,
          0,
          1,
          1,
          1,
          2,
          2,
          0,
          1,
          3,
          0,
          0,
          1,
          0,
          1,
          1,
          0,
          1,
          1,
          4,
          2,
          0,
          1,
          1,
          1,
          0,
          0,
          2,
          0,
          0,
          0,
          0,
          0,
          0,
          0,
          3,
          2,
          1,
          0,
          0,
          0,
          0,
          1,
          0,
          2,
          1,
          1,
          0,
          0,
          0,
          1,
          1,
          1,
          2,
          0,
          0,
          1,
          1,
          1,
          1,
          0,
          0,
          1,
          0,
          0,
          0,
          0,
          0,
          1,
          1,
          1,
          1,
          4,
          0,
          0,
          0,
          1,
          2,
          0,
          1,
          1,
          3,
          1,
          4,
          2,
          6,
          2,
          2,
          0,
          1,
          0,
          1,
          1,
          1,
          0,
          3,
          4,
          1,
          2,
          0,
          2,
          2,
          2,
          2,
          2,
          0,
          4,
          4,
          3,
          0,
          0,
          1,
          0,
          0,
          0,
          0,
          2,
          3,
          0,
          1,
          1,
          1,
          1,
          1,
          1,
          0,
          1,
          0,
          1,
          3,
          2,
          0,
          1,
          0,
          0,
          1,
          0,
          3,
          0,
          1,
          1,
          0,
          0,
          0,
          0,
          0,
          2,
          0,
          1,
          0,
          0,
          0,
          1,
          1,
          2,
          0,
          0,
          1,
          0,
          0,
          0,
          2,
          1,
          1,
          1,
          0,
          2,
          0,
          2,
          0,
          1,
          2,
          1,
          1,
          0,
          1,
          1,
          2,
          1,
          1,
          1,
          0,
          1,
          1,
          0,
          2,
          0,
          5,
          2,
          1,
          0,
          0,
          0,
          0,
          1,
          0,
          1,
          1,
          2,
          0,
          1,
          3,
          1,
          1
         ],
         "yaxis": "y"
        },
        {
         "line": {
          "color": "green"
         },
         "marker": {
          "size": 10
         },
         "mode": "markers",
         "name": "actual value",
         "type": "scatter",
         "x": [
          "2022-12-15T00:00:00"
         ],
         "y": [
          1
         ]
        },
        {
         "line": {
          "color": "red"
         },
         "marker": {
          "size": 15,
          "symbol": "x"
         },
         "mode": "markers",
         "name": "prediction",
         "type": "scatter",
         "x": [
          "2022-12-15T00:00:00"
         ],
         "y": [
          1.0976545998297922
         ]
        }
       ],
       "layout": {
        "legend": {
         "tracegroupgap": 0
        },
        "template": {
         "data": {
          "bar": [
           {
            "error_x": {
             "color": "#f2f5fa"
            },
            "error_y": {
             "color": "#f2f5fa"
            },
            "marker": {
             "line": {
              "color": "rgb(17,17,17)",
              "width": 0.5
             },
             "pattern": {
              "fillmode": "overlay",
              "size": 10,
              "solidity": 0.2
             }
            },
            "type": "bar"
           }
          ],
          "barpolar": [
           {
            "marker": {
             "line": {
              "color": "rgb(17,17,17)",
              "width": 0.5
             },
             "pattern": {
              "fillmode": "overlay",
              "size": 10,
              "solidity": 0.2
             }
            },
            "type": "barpolar"
           }
          ],
          "carpet": [
           {
            "aaxis": {
             "endlinecolor": "#A2B1C6",
             "gridcolor": "#506784",
             "linecolor": "#506784",
             "minorgridcolor": "#506784",
             "startlinecolor": "#A2B1C6"
            },
            "baxis": {
             "endlinecolor": "#A2B1C6",
             "gridcolor": "#506784",
             "linecolor": "#506784",
             "minorgridcolor": "#506784",
             "startlinecolor": "#A2B1C6"
            },
            "type": "carpet"
           }
          ],
          "choropleth": [
           {
            "colorbar": {
             "outlinewidth": 0,
             "ticks": ""
            },
            "type": "choropleth"
           }
          ],
          "contour": [
           {
            "colorbar": {
             "outlinewidth": 0,
             "ticks": ""
            },
            "colorscale": [
             [
              0,
              "#0d0887"
             ],
             [
              0.1111111111111111,
              "#46039f"
             ],
             [
              0.2222222222222222,
              "#7201a8"
             ],
             [
              0.3333333333333333,
              "#9c179e"
             ],
             [
              0.4444444444444444,
              "#bd3786"
             ],
             [
              0.5555555555555556,
              "#d8576b"
             ],
             [
              0.6666666666666666,
              "#ed7953"
             ],
             [
              0.7777777777777778,
              "#fb9f3a"
             ],
             [
              0.8888888888888888,
              "#fdca26"
             ],
             [
              1,
              "#f0f921"
             ]
            ],
            "type": "contour"
           }
          ],
          "contourcarpet": [
           {
            "colorbar": {
             "outlinewidth": 0,
             "ticks": ""
            },
            "type": "contourcarpet"
           }
          ],
          "heatmap": [
           {
            "colorbar": {
             "outlinewidth": 0,
             "ticks": ""
            },
            "colorscale": [
             [
              0,
              "#0d0887"
             ],
             [
              0.1111111111111111,
              "#46039f"
             ],
             [
              0.2222222222222222,
              "#7201a8"
             ],
             [
              0.3333333333333333,
              "#9c179e"
             ],
             [
              0.4444444444444444,
              "#bd3786"
             ],
             [
              0.5555555555555556,
              "#d8576b"
             ],
             [
              0.6666666666666666,
              "#ed7953"
             ],
             [
              0.7777777777777778,
              "#fb9f3a"
             ],
             [
              0.8888888888888888,
              "#fdca26"
             ],
             [
              1,
              "#f0f921"
             ]
            ],
            "type": "heatmap"
           }
          ],
          "heatmapgl": [
           {
            "colorbar": {
             "outlinewidth": 0,
             "ticks": ""
            },
            "colorscale": [
             [
              0,
              "#0d0887"
             ],
             [
              0.1111111111111111,
              "#46039f"
             ],
             [
              0.2222222222222222,
              "#7201a8"
             ],
             [
              0.3333333333333333,
              "#9c179e"
             ],
             [
              0.4444444444444444,
              "#bd3786"
             ],
             [
              0.5555555555555556,
              "#d8576b"
             ],
             [
              0.6666666666666666,
              "#ed7953"
             ],
             [
              0.7777777777777778,
              "#fb9f3a"
             ],
             [
              0.8888888888888888,
              "#fdca26"
             ],
             [
              1,
              "#f0f921"
             ]
            ],
            "type": "heatmapgl"
           }
          ],
          "histogram": [
           {
            "marker": {
             "pattern": {
              "fillmode": "overlay",
              "size": 10,
              "solidity": 0.2
             }
            },
            "type": "histogram"
           }
          ],
          "histogram2d": [
           {
            "colorbar": {
             "outlinewidth": 0,
             "ticks": ""
            },
            "colorscale": [
             [
              0,
              "#0d0887"
             ],
             [
              0.1111111111111111,
              "#46039f"
             ],
             [
              0.2222222222222222,
              "#7201a8"
             ],
             [
              0.3333333333333333,
              "#9c179e"
             ],
             [
              0.4444444444444444,
              "#bd3786"
             ],
             [
              0.5555555555555556,
              "#d8576b"
             ],
             [
              0.6666666666666666,
              "#ed7953"
             ],
             [
              0.7777777777777778,
              "#fb9f3a"
             ],
             [
              0.8888888888888888,
              "#fdca26"
             ],
             [
              1,
              "#f0f921"
             ]
            ],
            "type": "histogram2d"
           }
          ],
          "histogram2dcontour": [
           {
            "colorbar": {
             "outlinewidth": 0,
             "ticks": ""
            },
            "colorscale": [
             [
              0,
              "#0d0887"
             ],
             [
              0.1111111111111111,
              "#46039f"
             ],
             [
              0.2222222222222222,
              "#7201a8"
             ],
             [
              0.3333333333333333,
              "#9c179e"
             ],
             [
              0.4444444444444444,
              "#bd3786"
             ],
             [
              0.5555555555555556,
              "#d8576b"
             ],
             [
              0.6666666666666666,
              "#ed7953"
             ],
             [
              0.7777777777777778,
              "#fb9f3a"
             ],
             [
              0.8888888888888888,
              "#fdca26"
             ],
             [
              1,
              "#f0f921"
             ]
            ],
            "type": "histogram2dcontour"
           }
          ],
          "mesh3d": [
           {
            "colorbar": {
             "outlinewidth": 0,
             "ticks": ""
            },
            "type": "mesh3d"
           }
          ],
          "parcoords": [
           {
            "line": {
             "colorbar": {
              "outlinewidth": 0,
              "ticks": ""
             }
            },
            "type": "parcoords"
           }
          ],
          "pie": [
           {
            "automargin": true,
            "type": "pie"
           }
          ],
          "scatter": [
           {
            "marker": {
             "line": {
              "color": "#283442"
             }
            },
            "type": "scatter"
           }
          ],
          "scatter3d": [
           {
            "line": {
             "colorbar": {
              "outlinewidth": 0,
              "ticks": ""
             }
            },
            "marker": {
             "colorbar": {
              "outlinewidth": 0,
              "ticks": ""
             }
            },
            "type": "scatter3d"
           }
          ],
          "scattercarpet": [
           {
            "marker": {
             "colorbar": {
              "outlinewidth": 0,
              "ticks": ""
             }
            },
            "type": "scattercarpet"
           }
          ],
          "scattergeo": [
           {
            "marker": {
             "colorbar": {
              "outlinewidth": 0,
              "ticks": ""
             }
            },
            "type": "scattergeo"
           }
          ],
          "scattergl": [
           {
            "marker": {
             "line": {
              "color": "#283442"
             }
            },
            "type": "scattergl"
           }
          ],
          "scattermapbox": [
           {
            "marker": {
             "colorbar": {
              "outlinewidth": 0,
              "ticks": ""
             }
            },
            "type": "scattermapbox"
           }
          ],
          "scatterpolar": [
           {
            "marker": {
             "colorbar": {
              "outlinewidth": 0,
              "ticks": ""
             }
            },
            "type": "scatterpolar"
           }
          ],
          "scatterpolargl": [
           {
            "marker": {
             "colorbar": {
              "outlinewidth": 0,
              "ticks": ""
             }
            },
            "type": "scatterpolargl"
           }
          ],
          "scatterternary": [
           {
            "marker": {
             "colorbar": {
              "outlinewidth": 0,
              "ticks": ""
             }
            },
            "type": "scatterternary"
           }
          ],
          "surface": [
           {
            "colorbar": {
             "outlinewidth": 0,
             "ticks": ""
            },
            "colorscale": [
             [
              0,
              "#0d0887"
             ],
             [
              0.1111111111111111,
              "#46039f"
             ],
             [
              0.2222222222222222,
              "#7201a8"
             ],
             [
              0.3333333333333333,
              "#9c179e"
             ],
             [
              0.4444444444444444,
              "#bd3786"
             ],
             [
              0.5555555555555556,
              "#d8576b"
             ],
             [
              0.6666666666666666,
              "#ed7953"
             ],
             [
              0.7777777777777778,
              "#fb9f3a"
             ],
             [
              0.8888888888888888,
              "#fdca26"
             ],
             [
              1,
              "#f0f921"
             ]
            ],
            "type": "surface"
           }
          ],
          "table": [
           {
            "cells": {
             "fill": {
              "color": "#506784"
             },
             "line": {
              "color": "rgb(17,17,17)"
             }
            },
            "header": {
             "fill": {
              "color": "#2a3f5f"
             },
             "line": {
              "color": "rgb(17,17,17)"
             }
            },
            "type": "table"
           }
          ]
         },
         "layout": {
          "annotationdefaults": {
           "arrowcolor": "#f2f5fa",
           "arrowhead": 0,
           "arrowwidth": 1
          },
          "autotypenumbers": "strict",
          "coloraxis": {
           "colorbar": {
            "outlinewidth": 0,
            "ticks": ""
           }
          },
          "colorscale": {
           "diverging": [
            [
             0,
             "#8e0152"
            ],
            [
             0.1,
             "#c51b7d"
            ],
            [
             0.2,
             "#de77ae"
            ],
            [
             0.3,
             "#f1b6da"
            ],
            [
             0.4,
             "#fde0ef"
            ],
            [
             0.5,
             "#f7f7f7"
            ],
            [
             0.6,
             "#e6f5d0"
            ],
            [
             0.7,
             "#b8e186"
            ],
            [
             0.8,
             "#7fbc41"
            ],
            [
             0.9,
             "#4d9221"
            ],
            [
             1,
             "#276419"
            ]
           ],
           "sequential": [
            [
             0,
             "#0d0887"
            ],
            [
             0.1111111111111111,
             "#46039f"
            ],
            [
             0.2222222222222222,
             "#7201a8"
            ],
            [
             0.3333333333333333,
             "#9c179e"
            ],
            [
             0.4444444444444444,
             "#bd3786"
            ],
            [
             0.5555555555555556,
             "#d8576b"
            ],
            [
             0.6666666666666666,
             "#ed7953"
            ],
            [
             0.7777777777777778,
             "#fb9f3a"
            ],
            [
             0.8888888888888888,
             "#fdca26"
            ],
            [
             1,
             "#f0f921"
            ]
           ],
           "sequentialminus": [
            [
             0,
             "#0d0887"
            ],
            [
             0.1111111111111111,
             "#46039f"
            ],
            [
             0.2222222222222222,
             "#7201a8"
            ],
            [
             0.3333333333333333,
             "#9c179e"
            ],
            [
             0.4444444444444444,
             "#bd3786"
            ],
            [
             0.5555555555555556,
             "#d8576b"
            ],
            [
             0.6666666666666666,
             "#ed7953"
            ],
            [
             0.7777777777777778,
             "#fb9f3a"
            ],
            [
             0.8888888888888888,
             "#fdca26"
            ],
            [
             1,
             "#f0f921"
            ]
           ]
          },
          "colorway": [
           "#636efa",
           "#EF553B",
           "#00cc96",
           "#ab63fa",
           "#FFA15A",
           "#19d3f3",
           "#FF6692",
           "#B6E880",
           "#FF97FF",
           "#FECB52"
          ],
          "font": {
           "color": "#f2f5fa"
          },
          "geo": {
           "bgcolor": "rgb(17,17,17)",
           "lakecolor": "rgb(17,17,17)",
           "landcolor": "rgb(17,17,17)",
           "showlakes": true,
           "showland": true,
           "subunitcolor": "#506784"
          },
          "hoverlabel": {
           "align": "left"
          },
          "hovermode": "closest",
          "mapbox": {
           "style": "dark"
          },
          "paper_bgcolor": "rgb(17,17,17)",
          "plot_bgcolor": "rgb(17,17,17)",
          "polar": {
           "angularaxis": {
            "gridcolor": "#506784",
            "linecolor": "#506784",
            "ticks": ""
           },
           "bgcolor": "rgb(17,17,17)",
           "radialaxis": {
            "gridcolor": "#506784",
            "linecolor": "#506784",
            "ticks": ""
           }
          },
          "scene": {
           "xaxis": {
            "backgroundcolor": "rgb(17,17,17)",
            "gridcolor": "#506784",
            "gridwidth": 2,
            "linecolor": "#506784",
            "showbackground": true,
            "ticks": "",
            "zerolinecolor": "#C8D4E3"
           },
           "yaxis": {
            "backgroundcolor": "rgb(17,17,17)",
            "gridcolor": "#506784",
            "gridwidth": 2,
            "linecolor": "#506784",
            "showbackground": true,
            "ticks": "",
            "zerolinecolor": "#C8D4E3"
           },
           "zaxis": {
            "backgroundcolor": "rgb(17,17,17)",
            "gridcolor": "#506784",
            "gridwidth": 2,
            "linecolor": "#506784",
            "showbackground": true,
            "ticks": "",
            "zerolinecolor": "#C8D4E3"
           }
          },
          "shapedefaults": {
           "line": {
            "color": "#f2f5fa"
           }
          },
          "sliderdefaults": {
           "bgcolor": "#C8D4E3",
           "bordercolor": "rgb(17,17,17)",
           "borderwidth": 1,
           "tickwidth": 0
          },
          "ternary": {
           "aaxis": {
            "gridcolor": "#506784",
            "linecolor": "#506784",
            "ticks": ""
           },
           "baxis": {
            "gridcolor": "#506784",
            "linecolor": "#506784",
            "ticks": ""
           },
           "bgcolor": "rgb(17,17,17)",
           "caxis": {
            "gridcolor": "#506784",
            "linecolor": "#506784",
            "ticks": ""
           }
          },
          "title": {
           "x": 0.05
          },
          "updatemenudefaults": {
           "bgcolor": "#506784",
           "borderwidth": 0
          },
          "xaxis": {
           "automargin": true,
           "gridcolor": "#283442",
           "linecolor": "#506784",
           "ticks": "",
           "title": {
            "standoff": 15
           },
           "zerolinecolor": "#283442",
           "zerolinewidth": 2
          },
          "yaxis": {
           "automargin": true,
           "gridcolor": "#283442",
           "linecolor": "#506784",
           "ticks": "",
           "title": {
            "standoff": 15
           },
           "zerolinecolor": "#283442",
           "zerolinewidth": 2
          }
         }
        },
        "title": {
         "text": "Pick up hour=2022-12-15 00:00:00, loc_id=49"
        },
        "xaxis": {
         "anchor": "y",
         "domain": [
          0,
          1
         ],
         "title": {
          "text": "x"
         }
        },
        "yaxis": {
         "anchor": "x",
         "domain": [
          0,
          1
         ],
         "title": {
          "text": "y"
         }
        }
       }
      }
     },
     "metadata": {},
     "output_type": "display_data"
    }
   ],
   "source": [
    "from src.plot import plot_one_sample\n",
    "\n",
    "plot_one_sample(X_test,\n",
    "                y_test,\n",
    "                example_id=2979,\n",
    "                predictions=pd.Series(predictions))"
   ]
  },
  {
   "cell_type": "code",
   "execution_count": null,
   "metadata": {},
   "outputs": [],
   "source": []
  }
 ],
 "metadata": {
  "kernelspec": {
   "display_name": "taxienv",
   "language": "python",
   "name": "python3"
  },
  "language_info": {
   "codemirror_mode": {
    "name": "ipython",
    "version": 3
   },
   "file_extension": ".py",
   "mimetype": "text/x-python",
   "name": "python",
   "nbconvert_exporter": "python",
   "pygments_lexer": "ipython3",
   "version": "3.8.10"
  }
 },
 "nbformat": 4,
 "nbformat_minor": 2
}
